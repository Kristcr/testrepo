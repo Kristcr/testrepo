{
 "cells": [
  {
   "cell_type": "markdown",
   "id": "b0c881b7",
   "metadata": {},
   "source": [
    "##Data science tools\n",
    "\n",
    "| Data science tools |\n",
    "|--------------------|\n",
    "|Jupiter Notebook    |\n",
    "|Jupiter Lab         |\n",
    "| R Studio           |\n",
    "|Spider              |"
   ]
  },
  {
   "cell_type": "markdown",
   "id": "1b247369",
   "metadata": {},
   "source": []
  },
  {
   "cell_type": "markdown",
   "id": "829e82d7",
   "metadata": {},
   "source": [
    "### H3: Below are a few examples of evaluating arithmetic expressions in Python"
   ]
  },
  {
   "cell_type": "code",
   "execution_count": 4,
   "id": "a47d0d4e",
   "metadata": {},
   "outputs": [
    {
     "data": {
      "text/plain": [
       "17"
      ]
     },
     "execution_count": 4,
     "metadata": {},
     "output_type": "execute_result"
    }
   ],
   "source": [
    "(3*4)+5\n",
    "#this is a simple arithmetic expression to multiply the add intiger"
   ]
  },
  {
   "cell_type": "code",
   "execution_count": null,
   "id": "cc03c09e",
   "metadata": {},
   "outputs": [],
   "source": []
  },
  {
   "cell_type": "code",
   "execution_count": null,
   "id": "a64f09dd",
   "metadata": {},
   "outputs": [],
   "source": []
  },
  {
   "cell_type": "code",
   "execution_count": 10,
   "id": "c4cd78a8",
   "metadata": {},
   "outputs": [
    {
     "data": {
      "text/plain": [
       "3.3333333333333335"
      ]
     },
     "execution_count": 10,
     "metadata": {},
     "output_type": "execute_result"
    }
   ],
   "source": [
    "#This will convert 200 minutes to hours by divinding by 60\n",
    "\n",
    "200 / 60\n"
   ]
  },
  {
   "cell_type": "markdown",
   "id": "e1b403ea",
   "metadata": {},
   "source": [
    "# Exercice 3 \n",
    "\n",
    "** Objectives: **\n",
    "    \n",
    "    -python\n",
    "    -R\n",
    "    -SQL\n",
    "    -Java\n",
    "    -C++\n",
    "    \n",
    "    "
   ]
  },
  {
   "cell_type": "markdown",
   "id": "7a98344d",
   "metadata": {},
   "source": [
    "#Exercise 3 \n",
    "\n",
    "** Objectives: **\n",
    "    \n",
    "    -python\n",
    "    -R\n",
    "    -SQL\n",
    "    -Java\n",
    "    -C++\n",
    "    \n"
   ]
  },
  {
   "cell_type": "markdown",
   "id": "f4f85564",
   "metadata": {},
   "source": []
  },
  {
   "cell_type": "markdown",
   "id": "bc62c406",
   "metadata": {},
   "source": [
    "## H2: Olesea Ionita\n",
    "#Author\n",
    "\n",
    "\n"
   ]
  },
  {
   "cell_type": "markdown",
   "id": "0aac7380",
   "metadata": {},
   "source": [
    "#Some of the commonly used libraries used by Data Scientits includes:\n",
    "\n",
    "\n",
    "1.Pandas (datastructures &tools)\n",
    "2.NumPy (arrays&matrice)\n",
    "3.Seaborn (visualiasation;Plots)\n",
    "4.Matplotlib (Plots&graphs)\n",
    "5.ggplots2 (R libraries)"
   ]
  },
  {
   "cell_type": "markdown",
   "id": "c77c1adc",
   "metadata": {},
   "source": [
    "\n"
   ]
  },
  {
   "cell_type": "code",
   "execution_count": null,
   "id": "4e06879f",
   "metadata": {},
   "outputs": [],
   "source": []
  },
  {
   "cell_type": "code",
   "execution_count": null,
   "id": "38d4d23c",
   "metadata": {},
   "outputs": [],
   "source": []
  },
  {
   "cell_type": "markdown",
   "id": "ced9b32a",
   "metadata": {},
   "source": [
    "# Some of the popular languages that Data Scientits use are:\n"
   ]
  },
  {
   "cell_type": "markdown",
   "id": "d3e35ae3",
   "metadata": {},
   "source": [
    " 1. Python\n",
    " 2. Java\n",
    " 3. R\n",
    " 4. SQL\n",
    " 5. Julia\n"
   ]
  },
  {
   "cell_type": "markdown",
   "id": "e6d1936a",
   "metadata": {},
   "source": [
    "# Data Science Tools and Ecosystem"
   ]
  },
  {
   "cell_type": "code",
   "execution_count": null,
   "id": "6a09c50a",
   "metadata": {},
   "outputs": [],
   "source": []
  }
 ],
 "metadata": {
  "kernelspec": {
   "display_name": "Python 3 (ipykernel)",
   "language": "python",
   "name": "python3"
  },
  "language_info": {
   "codemirror_mode": {
    "name": "ipython",
    "version": 3
   },
   "file_extension": ".py",
   "mimetype": "text/x-python",
   "name": "python",
   "nbconvert_exporter": "python",
   "pygments_lexer": "ipython3",
   "version": "3.10.9"
  }
 },
 "nbformat": 4,
 "nbformat_minor": 5
}
